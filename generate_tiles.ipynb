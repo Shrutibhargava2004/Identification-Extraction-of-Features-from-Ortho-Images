{
 "cells": [
  {
   "cell_type": "code",
   "execution_count": 15,
   "id": "6124c2b0-6803-43f2-b38d-14938c5e9a3a",
   "metadata": {},
   "outputs": [],
   "source": [
    "from geotile import GeoTile\n",
    "import numpy as np"
   ]
  },
  {
   "cell_type": "code",
   "execution_count": 14,
   "id": "586202a8-b607-4443-acf4-562885f723cc",
   "metadata": {},
   "outputs": [],
   "source": [
    "path_train_x='D:/SIH_Dataset/train_test/ortho_lalpur(511638)_3857.tif'\n",
    "path_train_y='D:/SIH_Dataset/Gujarat 2/LalPur, Suragpur/Gujarat_Build_Up_Area_Type.shp'\n",
    "path_test_x='D:/SIH_Dataset/train_test/443193_amora-orthomosaic.tif'\n",
    "path_test_y='D:/SIH_Dataset/Chhattisgarh_2/Chhattisgarh_Svamitva.gdb/a0000000b.gdbtable'"
   ]
  },
  {
   "cell_type": "code",
   "execution_count": 6,
   "id": "b217158d-a091-4314-9d7f-da936876f14b",
   "metadata": {},
   "outputs": [],
   "source": [
    "gt_train=GeoTile(path_train_x)"
   ]
  },
  {
   "cell_type": "code",
   "execution_count": 8,
   "id": "b05b8c9c-1edd-4f6a-bb81-d23ea9e510d8",
   "metadata": {},
   "outputs": [
    {
     "name": "stdout",
     "output_type": "stream",
     "text": [
      "{'driver': 'GTiff', 'dtype': 'uint8', 'nodata': None, 'width': 20137, 'height': 20886, 'count': 4, 'crs': CRS.from_epsg(3857), 'transform': Affine(0.0338072687176019, 0.0, 8098996.378192741,\n",
      "       0.0, -0.0338072687176019, 2637264.5059597455)}\n"
     ]
    }
   ],
   "source": [
    "print(gt_train.meta)"
   ]
  },
  {
   "cell_type": "code",
   "execution_count": 16,
   "id": "ac03af21-6f8b-4e7b-b279-e524151ae90d",
   "metadata": {},
   "outputs": [],
   "source": [
    "#gt_train.generate_tiles('D:/SIH_Dataset/train_test/train_x_tiles',prefix='train_')"
   ]
  },
  {
   "cell_type": "code",
   "execution_count": 17,
   "id": "a1ac9148-10da-4201-bb85-ead9502488ea",
   "metadata": {},
   "outputs": [],
   "source": [
    "#gt_train.rasterization(path_train_y,'D:/SIH_Dataset/train_test/y_train.tif')"
   ]
  },
  {
   "cell_type": "code",
   "execution_count": 18,
   "id": "3bd1a603-1e9d-4463-a9de-4aafd3d28041",
   "metadata": {},
   "outputs": [],
   "source": [
    "gt_train_y=GeoTile('D:/SIH_Dataset/train_test/y_train.tif')\n",
    "#gt_train_y.generate_tiles('D:/SIH_Dataset/train_test/train_y_tiles',prefix='train_')"
   ]
  },
  {
   "cell_type": "code",
   "execution_count": 12,
   "id": "36a60cc5-50dd-4ef0-80c9-171e158f3676",
   "metadata": {},
   "outputs": [
    {
     "name": "stdout",
     "output_type": "stream",
     "text": [
      "{'driver': 'GTiff', 'dtype': 'uint8', 'nodata': None, 'width': 16609, 'height': 12555, 'count': 4, 'crs': CRS.from_epsg(3857), 'transform': Affine(0.03554429635877493, 0.0, 9053292.340404801,\n",
      "       0.0, -0.03554429635877493, 2360171.2238276075)}\n"
     ]
    }
   ],
   "source": [
    "gt_test=GeoTile(path_test_x)\n",
    "print(gt_test.meta)\n",
    "#gt_test.generate_tiles('D:/SIH_Dataset/train_test/test_x_tiles',prefix ='test_')\n",
    "#gt_test.rasterization(path_test_y,'D:/SIH_Dataset/train_test/y_test.tif')"
   ]
  },
  {
   "cell_type": "code",
   "execution_count": 19,
   "id": "09c81b61-20dc-4029-a178-8856fd393e49",
   "metadata": {},
   "outputs": [],
   "source": [
    "gt_test_y=GeoTile('D:/SIH_Dataset/train_test/y_test.tif')\n",
    "#gt_test_y.generate_tiles('D:/SIH_Dataset/train_test/test_y_tiles',prefix = 'test_')"
   ]
  },
  {
   "cell_type": "code",
   "execution_count": 20,
   "id": "7afa17e8-0101-4a88-91f8-b929242daebf",
   "metadata": {},
   "outputs": [],
   "source": [
    "gt_train=GeoTile('D:/SIH_Dataset/train_test/ortho_lalpur(511638)_3857.tif')\n",
    "gt_train.generate_tiles(save_tiles=False)"
   ]
  },
  {
   "cell_type": "code",
   "execution_count": 21,
   "id": "051f3112-3c20-44b4-9e75-662f06d24600",
   "metadata": {},
   "outputs": [],
   "source": [
    "gt_train.convert_nan_to_zero()"
   ]
  },
  {
   "cell_type": "code",
   "execution_count": 23,
   "id": "ed5a93db-a5f8-4aa7-9b70-b89f83588877",
   "metadata": {},
   "outputs": [
    {
     "data": {
      "text/plain": [
       "(np.uint8(0), np.uint8(255))"
      ]
     },
     "execution_count": 23,
     "metadata": {},
     "output_type": "execute_result"
    }
   ],
   "source": [
    "gt_train.tile_data.min(), gt_train.tile_data.max()"
   ]
  },
  {
   "cell_type": "code",
   "execution_count": 36,
   "id": "56fa604c-fbe8-484e-a3e1-ede59fb0f24e",
   "metadata": {},
   "outputs": [],
   "source": [
    "#gt_train.save_numpy('D:/SIH_Dataset/train_test/X_train.npy')"
   ]
  },
  {
   "cell_type": "code",
   "execution_count": 37,
   "id": "8cd5794f-a712-4f51-8606-631a0c09055c",
   "metadata": {},
   "outputs": [],
   "source": [
    "gt_train_y.generate_tiles(save_tiles=False)"
   ]
  },
  {
   "cell_type": "code",
   "execution_count": 32,
   "id": "d5f3de35-6ea3-4dbb-b0f3-b9e2a0a6c356",
   "metadata": {},
   "outputs": [],
   "source": [
    "#gt_train_y.normalize_tiles()"
   ]
  },
  {
   "cell_type": "code",
   "execution_count": 38,
   "id": "463949d4-862f-4f5c-815b-0662630078e5",
   "metadata": {},
   "outputs": [],
   "source": [
    "gt_train_y.save_numpy('D:/SIH_Dataset/train_test/y_train.npy')"
   ]
  },
  {
   "cell_type": "code",
   "execution_count": 39,
   "id": "8c78fac5-9aaa-4446-b5b0-f57316dd0674",
   "metadata": {},
   "outputs": [],
   "source": [
    "gt_test.generate_tiles(save_tiles=False)"
   ]
  },
  {
   "cell_type": "code",
   "execution_count": 41,
   "id": "ca4f1012-7cca-4053-ad73-44025311d99d",
   "metadata": {},
   "outputs": [],
   "source": [
    "gt_test.convert_nan_to_zero()"
   ]
  },
  {
   "cell_type": "code",
   "execution_count": 42,
   "id": "b3d8bf19-87d0-49fb-8569-ba628cceaa42",
   "metadata": {},
   "outputs": [],
   "source": [
    "gt_test.save_numpy('D:/SIH_Dataset/train_test/X_test.npy')"
   ]
  },
  {
   "cell_type": "code",
   "execution_count": 43,
   "id": "66860c87-5270-4134-a121-85bc351ea5c7",
   "metadata": {},
   "outputs": [],
   "source": [
    "gt_test_y.generate_tiles(save_tiles=False)"
   ]
  },
  {
   "cell_type": "code",
   "execution_count": 44,
   "id": "52abd8d3-e806-4d5e-b219-9dced4a6dd26",
   "metadata": {},
   "outputs": [],
   "source": [
    "gt_test_y.save_numpy('D:/SIH_Dataset/train_test/y_test.npy')"
   ]
  },
  {
   "cell_type": "code",
   "execution_count": null,
   "id": "3dea8ef7-a4bb-4c83-9576-b137c013eabd",
   "metadata": {},
   "outputs": [],
   "source": []
  }
 ],
 "metadata": {
  "kernelspec": {
   "display_name": "Python 3 (ipykernel)",
   "language": "python",
   "name": "python3"
  },
  "language_info": {
   "codemirror_mode": {
    "name": "ipython",
    "version": 3
   },
   "file_extension": ".py",
   "mimetype": "text/x-python",
   "name": "python",
   "nbconvert_exporter": "python",
   "pygments_lexer": "ipython3",
   "version": "3.10.7"
  }
 },
 "nbformat": 4,
 "nbformat_minor": 5
}
